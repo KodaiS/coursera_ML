{
 "cells": [
  {
   "cell_type": "code",
   "execution_count": 61,
   "id": "ede88ccd",
   "metadata": {},
   "outputs": [
    {
     "data": {
      "image/png": "[encoded data removed]",
      "text/plain": [
       "<IPython.core.display.Image object>"
      ]
     },
     "metadata": {},
     "output_type": "display_data"
    }
   ],
   "source": [
    "%% =========== Part 1: Loading and Visualizing Data =============\n",
    "clear ; close all; clc\n",
    "\n",
    "% Load from ex5data1: \n",
    "% You will have X, y, Xval, yval, Xtest, ytest in your environment\n",
    "load ('ex5data1.mat');\n",
    "\n",
    "% m = Number of examples\n",
    "m = size(X, 1);\n",
    "\n",
    "% Plot training data\n",
    "plot(X, y, 'rx', 'MarkerSize', 10, 'LineWidth', 1.5);\n",
    "xlabel('Change in water level (x)');\n",
    "ylabel('Water flowing out of the dam (y)');"
   ]
  },
  {
   "cell_type": "code",
   "execution_count": 62,
   "id": "3e406f38",
   "metadata": {},
   "outputs": [
    {
     "name": "stdout",
     "output_type": "stream",
     "text": [
      "Iteration     1 | Cost: 1.052435e+02\r",
      "Iteration     2 | Cost: 2.237391e+01\r",
      "\r\n"
     ]
    },
    {
     "data": {
      "image/png": "[encoded data removed]",
      "text/plain": [
       "<IPython.core.display.Image object>"
      ]
     },
     "metadata": {},
     "output_type": "display_data"
    }
   ],
   "source": [
    "%% =========== Part 4: Train Linear Regression =============\n",
    "%  Once you have implemented the cost and gradient correctly, the\n",
    "%  trainLinearReg function will use your cost function to train \n",
    "%  regularized linear regression.\n",
    "% \n",
    "%  Write Up Note: The data is non-linear, so this will not give a great \n",
    "%                 fit.\n",
    "%\n",
    "\n",
    "%  Train linear regression with lambda = 0\n",
    "lambda = 0;\n",
    "[theta] = trainLinearReg([ones(m, 1) X], y, lambda);\n",
    "\n",
    "%  Plot fit over the data\n",
    "plot(X, y, 'rx', 'MarkerSize', 10, 'LineWidth', 1.5);\n",
    "xlabel('Change in water level (x)');\n",
    "ylabel('Water flowing out of the dam (y)');\n",
    "hold on;\n",
    "plot(X, [ones(m, 1) X]*theta, '--', 'LineWidth', 2)\n",
    "hold off;"
   ]
  },
  {
   "cell_type": "code",
   "execution_count": 63,
   "id": "f8a83fe4",
   "metadata": {},
   "outputs": [
    {
     "name": "stdout",
     "output_type": "stream",
     "text": [
      "warning: division by zero.944305e-31\n",
      "warning: called from\n",
      "    fmincg at line 102 column 12\n",
      "    trainLinearReg at line 19 column 7\n",
      "    learningCurve at line 60 column 11\n",
      "warning: division by zero.000000e+00\n",
      "warning: called from\n",
      "    fmincg at line 124 column 8\n",
      "    trainLinearReg at line 19 column 7\n",
      "    learningCurve at line 60 column 11\n",
      "warning: division by zero\n",
      "warning: called from\n",
      "    fmincg at line 124 column 8\n",
      "    trainLinearReg at line 19 column 7\n",
      "    learningCurve at line 60 column 11\n",
      "warning: division by zero\n",
      "warning: called from\n",
      "    fmincg at line 124 column 8\n",
      "    trainLinearReg at line 19 column 7\n",
      "    learningCurve at line 60 column 11\n",
      "warning: division by zero\n",
      "warning: called from\n",
      "    fmincg at line 124 column 8\n",
      "    trainLinearReg at line 19 column 7\n",
      "    learningCurve at line 60 column 11\n",
      "warning: division by zero\n",
      "warning: called from\n",
      "    fmincg at line 124 column 8\n",
      "    trainLinearReg at line 19 column 7\n",
      "    learningCurve at line 60 column 11\n",
      "warning: division by zero\n",
      "warning: called from\n",
      "    fmincg at line 124 column 8\n",
      "    trainLinearReg at line 19 column 7\n",
      "    learningCurve at line 60 column 11\n",
      "warning: division by zero\n",
      "warning: called from\n",
      "    fmincg at line 124 column 8\n",
      "    trainLinearReg at line 19 column 7\n",
      "    learningCurve at line 60 column 11\n",
      "warning: division by zero\n",
      "warning: called from\n",
      "    fmincg at line 124 column 8\n",
      "    trainLinearReg at line 19 column 7\n",
      "    learningCurve at line 60 column 11\n",
      "warning: division by zero\n",
      "warning: called from\n",
      "    fmincg at line 124 column 8\n",
      "    trainLinearReg at line 19 column 7\n",
      "    learningCurve at line 60 column 11\n",
      "warning: division by zero\n",
      "warning: called from\n",
      "    fmincg at line 124 column 8\n",
      "    trainLinearReg at line 19 column 7\n",
      "    learningCurve at line 60 column 11\n",
      "warning: division by zero\n",
      "warning: called from\n",
      "    fmincg at line 124 column 8\n",
      "    trainLinearReg at line 19 column 7\n",
      "    learningCurve at line 60 column 11\n",
      "warning: division by zero\n",
      "warning: called from\n",
      "    fmincg at line 124 column 8\n",
      "    trainLinearReg at line 19 column 7\n",
      "    learningCurve at line 60 column 11\n",
      "warning: division by zero\n",
      "warning: called from\n",
      "    fmincg at line 124 column 8\n",
      "    trainLinearReg at line 19 column 7\n",
      "    learningCurve at line 60 column 11\n",
      "warning: division by zero\n",
      "warning: called from\n",
      "    fmincg at line 124 column 8\n",
      "    trainLinearReg at line 19 column 7\n",
      "    learningCurve at line 60 column 11\n",
      "warning: division by zero\n",
      "warning: called from\n",
      "    fmincg at line 124 column 8\n",
      "    trainLinearReg at line 19 column 7\n",
      "    learningCurve at line 60 column 11\n",
      "warning: division by zero\n",
      "warning: called from\n",
      "    fmincg at line 124 column 8\n",
      "    trainLinearReg at line 19 column 7\n",
      "    learningCurve at line 60 column 11\n",
      "warning: division by zero\n",
      "warning: called from\n",
      "    fmincg at line 124 column 8\n",
      "    trainLinearReg at line 19 column 7\n",
      "    learningCurve at line 60 column 11\n",
      "warning: division by zero\n",
      "warning: called from\n",
      "    fmincg at line 124 column 8\n",
      "    trainLinearReg at line 19 column 7\n",
      "    learningCurve at line 60 column 11\n",
      "warning: division by zero\n",
      "warning: called from\n",
      "    fmincg at line 124 column 8\n",
      "    trainLinearReg at line 19 column 7\n",
      "    learningCurve at line 60 column 11\n",
      "warning: division by zero\n",
      "warning: called from\n",
      "    fmincg at line 124 column 8\n",
      "    trainLinearReg at line 19 column 7\n",
      "    learningCurve at line 60 column 11\n",
      "warning: division by zero\n",
      "warning: called from\n",
      "    fmincg at line 124 column 8\n",
      "    trainLinearReg at line 19 column 7\n",
      "    learningCurve at line 60 column 11\n",
      "warning: division by zero\n",
      "warning: called from\n",
      "    fmincg at line 124 column 8\n",
      "    trainLinearReg at line 19 column 7\n",
      "    learningCurve at line 60 column 11\n",
      "warning: division by zero\n",
      "warning: called from\n",
      "    fmincg at line 124 column 8\n",
      "    trainLinearReg at line 19 column 7\n",
      "    learningCurve at line 60 column 11\n",
      "warning: division by zero\n",
      "warning: called from\n",
      "    fmincg at line 124 column 8\n",
      "    trainLinearReg at line 19 column 7\n",
      "    learningCurve at line 60 column 11\n",
      "warning: division by zero\n",
      "warning: called from\n",
      "    fmincg at line 124 column 8\n",
      "    trainLinearReg at line 19 column 7\n",
      "    learningCurve at line 60 column 11\n",
      "warning: division by zero\n",
      "warning: called from\n",
      "    fmincg at line 124 column 8\n",
      "    trainLinearReg at line 19 column 7\n",
      "    learningCurve at line 60 column 11\n",
      "warning: division by zero\n",
      "warning: called from\n",
      "    fmincg at line 124 column 8\n",
      "    trainLinearReg at line 19 column 7\n",
      "    learningCurve at line 60 column 11\n",
      "warning: division by zero\n",
      "warning: called from\n",
      "    fmincg at line 124 column 8\n",
      "    trainLinearReg at line 19 column 7\n",
      "    learningCurve at line 60 column 11\n",
      "warning: division by zero\n",
      "warning: called from\n",
      "    fmincg at line 124 column 8\n",
      "    trainLinearReg at line 19 column 7\n",
      "    learningCurve at line 60 column 11\n",
      "warning: division by zero\n",
      "warning: called from\n",
      "    fmincg at line 124 column 8\n",
      "    trainLinearReg at line 19 column 7\n",
      "    learningCurve at line 60 column 11\n",
      "warning: division by zero\n",
      "warning: called from\n",
      "    fmincg at line 124 column 8\n",
      "    trainLinearReg at line 19 column 7\n",
      "    learningCurve at line 60 column 11\n",
      "warning: division by zero\n",
      "warning: called from\n",
      "    fmincg at line 124 column 8\n",
      "    trainLinearReg at line 19 column 7\n",
      "    learningCurve at line 60 column 11\n",
      "warning: division by zero\n",
      "warning: called from\n",
      "    fmincg at line 124 column 8\n",
      "    trainLinearReg at line 19 column 7\n",
      "    learningCurve at line 60 column 11\n",
      "warning: division by zero\n",
      "warning: called from\n",
      "    fmincg at line 124 column 8\n",
      "    trainLinearReg at line 19 column 7\n",
      "    learningCurve at line 60 column 11\n",
      "warning: division by zero\n",
      "warning: called from\n",
      "    fmincg at line 124 column 8\n",
      "    trainLinearReg at line 19 column 7\n",
      "    learningCurve at line 60 column 11\n",
      "warning: division by zero\n",
      "warning: called from\n",
      "    fmincg at line 124 column 8\n",
      "    trainLinearReg at line 19 column 7\n",
      "    learningCurve at line 60 column 11\n",
      "warning: division by zero\n",
      "warning: called from\n",
      "    fmincg at line 124 column 8\n",
      "    trainLinearReg at line 19 column 7\n",
      "    learningCurve at line 60 column 11\n",
      "warning: division by zero\n",
      "warning: called from\n",
      "    fmincg at line 124 column 8\n",
      "    trainLinearReg at line 19 column 7\n",
      "    learningCurve at line 60 column 11\n",
      "warning: division by zero\n",
      "warning: called from\n",
      "    fmincg at line 124 column 8\n",
      "    trainLinearReg at line 19 column 7\n",
      "    learningCurve at line 60 column 11\n",
      "warning: division by zero\n",
      "warning: called from\n",
      "    fmincg at line 124 column 8\n",
      "    trainLinearReg at line 19 column 7\n",
      "    learningCurve at line 60 column 11\n",
      "\n",
      "Iteration     3 | Cost: 9.860761e-32\n",
      "Iteration     8 | Cost: 3.286595e+00\n",
      "Iteration    13 | Cost: 2.842678e+00\n",
      "Iteration    25 | Cost: 1.315405e+01\n",
      "Iteration    36 | Cost: 1.944396e+01\n",
      "Iteration    15 | Cost: 2.009852e+01\n",
      "Iteration    18 | Cost: 1.817286e+01\n",
      "Iteration     9 | Cost: 2.260941e+01\n",
      "Iteration    16 | Cost: 2.326146e+01\n",
      "Iteration    20 | Cost: 2.431725e+01\n",
      "Iteration     2 | Cost: 2.237391e+01\n"
     ]
    },
    {
     "data": {
      "image/png": "[encoded data removed]",
      "text/plain": [
       "<IPython.core.display.Image object>"
      ]
     },
     "metadata": {},
     "output_type": "display_data"
    }
   ],
   "source": [
    "%% =========== Part 5: Learning Curve for Linear Regression =============\n",
    "%  Next, you should implement the learningCurve function. \n",
    "%\n",
    "%  Write Up Note: Since the model is underfitting the data, we expect to\n",
    "%                 see a graph with \"high bias\" -- Figure 3 in ex5.pdf \n",
    "%\n",
    "\n",
    "lambda = 0;\n",
    "[error_train, error_val] = ...\n",
    "    learningCurve([ones(m, 1) X], y, ...\n",
    "                  [ones(size(Xval, 1), 1) Xval], yval, ...\n",
    "                  lambda);\n",
    "\n",
    "plot(1:m, error_train, 1:m, error_val);\n",
    "title('Learning curve for linear regression')\n",
    "legend('Train', 'Cross Validation')\n",
    "xlabel('Number of training examples')\n",
    "ylabel('Error')\n",
    "axis([0 13 0 150])"
   ]
  },
  {
   "cell_type": "code",
   "execution_count": 64,
   "id": "b5fe01f1",
   "metadata": {},
   "outputs": [
    {
     "name": "stdout",
     "output_type": "stream",
     "text": [
      "Normalized Training Example 1:\n",
      "  1.000000  \n",
      "  -0.362141  \n",
      "  -0.755087  \n",
      "  0.182226  \n",
      "  -0.706190  \n",
      "  0.306618  \n",
      "  -0.590878  \n",
      "  0.344516  \n",
      "  -0.508481  \n"
     ]
    }
   ],
   "source": [
    "%% =========== Part 6: Feature Mapping for Polynomial Regression =============\n",
    "%  One solution to this is to use polynomial regression. You should now\n",
    "%  complete polyFeatures to map each example into its powers\n",
    "%\n",
    "\n",
    "p = 8;\n",
    "\n",
    "% Map X onto Polynomial Features and Normalize\n",
    "X_poly = polyFeatures(X, p);\n",
    "[X_poly, mu, sigma] = featureNormalize(X_poly);  % Normalize\n",
    "X_poly = [ones(m, 1), X_poly];                   % Add Ones\n",
    "\n",
    "% Map X_poly_test and normalize (using mu and sigma)\n",
    "X_poly_test = polyFeatures(Xtest, p);\n",
    "X_poly_test = bsxfun(@minus, X_poly_test, mu);\n",
    "X_poly_test = bsxfun(@rdivide, X_poly_test, sigma);\n",
    "X_poly_test = [ones(size(X_poly_test, 1), 1), X_poly_test];         % Add Ones\n",
    "\n",
    "% Map X_poly_val and normalize (using mu and sigma)\n",
    "X_poly_val = polyFeatures(Xval, p);\n",
    "X_poly_val = bsxfun(@minus, X_poly_val, mu);\n",
    "X_poly_val = bsxfun(@rdivide, X_poly_val, sigma);\n",
    "X_poly_val = [ones(size(X_poly_val, 1), 1), X_poly_val];           % Add Ones\n",
    "\n",
    "fprintf('Normalized Training Example 1:\\n');\n",
    "fprintf('  %f  \\n', X_poly(1, :));"
   ]
  },
  {
   "cell_type": "code",
   "execution_count": 65,
   "id": "428279f9",
   "metadata": {
    "scrolled": false
   },
   "outputs": [
    {
     "name": "stdout",
     "output_type": "stream",
     "text": [
      "Iteration    34 | Cost: 1.586769e+01\n",
      "warning: division by zero.061563e-01\n",
      "warning: called from\n",
      "    fmincg at line 102 column 12\n",
      "    trainLinearReg at line 19 column 7\n",
      "    learningCurve at line 60 column 11\n",
      "Iteration    11 | Cost: 1.115466e-31\n",
      "Iteration     5 | Cost: 9.652732e-02\n",
      "Iteration    26 | Cost: 4.227606e+01\n",
      "Iteration    32 | Cost: 3.633904e+01\n",
      "Iteration    37 | Cost: 2.909662e+01\n",
      "Iteration    29 | Cost: 2.578654e+01\n",
      "Iteration    21 | Cost: 2.269255e+01\n",
      "Iteration    26 | Cost: 1.992017e+01\n",
      "Iteration    34 | Cost: 1.851490e+01\n",
      "Iteration    46 | Cost: 1.668588e+01\n",
      "Iteration    45 | Cost: 1.519306e+01\n",
      "Iteration    34 | Cost: 1.586769e+01\n",
      "Polynomial Regression (lambda = 3.000000)\n",
      "\n",
      "# Training Examples\tTrain Error\tCross Validation Error\n",
      "  \t1\t\t0.000000\t242.981860\n",
      "  \t2\t\t0.080704\t251.664355\n",
      "  \t3\t\t15.062824\t11.656277\n",
      "  \t4\t\t9.168032\t7.564413\n",
      "  \t5\t\t7.265776\t7.894285\n",
      "  \t6\t\t5.748443\t8.508182\n",
      "  \t7\t\t5.782668\t7.402678\n",
      "  \t8\t\t4.879505\t7.631079\n",
      "  \t9\t\t4.641370\t8.387489\n",
      "  \t10\t\t4.232232\t8.197385\n",
      "  \t11\t\t3.820537\t8.413465\n",
      "  \t12\t\t4.901351\t6.690087\n"
     ]
    },
    {
     "data": {
      "image/png": "[encoded data removed]",
      "text/plain": [
       "<IPython.core.display.Image object>"
      ]
     },
     "metadata": {},
     "output_type": "display_data"
    },
    {
     "data": {
      "image/png": "[encoded data removed]",
      "text/plain": [
       "<IPython.core.display.Image object>"
      ]
     },
     "metadata": {},
     "output_type": "display_data"
    }
   ],
   "source": [
    "%  Now, you will get to experiment with polynomial regression with multiple\n",
    "%  values of lambda. The code below runs polynomial regression with \n",
    "%  lambda = 0. You should try running the code with different values of\n",
    "%  lambda to see how the fit and learning curve change.\n",
    "%\n",
    "\n",
    "lambda = 3;\n",
    "[theta] = trainLinearReg(X_poly, y, lambda);\n",
    "\n",
    "% Plot training data and fit\n",
    "figure(1);\n",
    "plot(X, y, 'rx', 'MarkerSize', 10, 'LineWidth', 1.5);\n",
    "plotFit(min(X), max(X), mu, sigma, theta, p);\n",
    "xlabel('Change in water level (x)');\n",
    "ylabel('Water flowing out of the dam (y)');\n",
    "title (sprintf('Polynomial Regression Fit (lambda = %f)', lambda));\n",
    "\n",
    "figure(2);\n",
    "[error_train, error_val] = ...\n",
    "    learningCurve(X_poly, y, X_poly_val, yval, lambda);\n",
    "plot(1:m, error_train, 1:m, error_val);\n",
    "\n",
    "title(sprintf('Polynomial Regression Learning Curve (lambda = %f)', lambda));\n",
    "xlabel('Number of training examples')\n",
    "ylabel('Error')\n",
    "axis([0 13 0 100])\n",
    "legend('Train', 'Cross Validation')\n",
    "\n",
    "fprintf('Polynomial Regression (lambda = %f)\\n\\n', lambda);\n",
    "fprintf('# Training Examples\\tTrain Error\\tCross Validation Error\\n');\n",
    "for i = 1:m\n",
    "    fprintf('  \\t%d\\t\\t%f\\t%f\\n', i, error_train(i), error_val(i));\n",
    "end\n"
   ]
  },
  {
   "cell_type": "code",
   "execution_count": 66,
   "id": "f4da036e",
   "metadata": {},
   "outputs": [
    {
     "name": "stdout",
     "output_type": "stream",
     "text": [
      "Iteration   200 | Cost: 1.339803e-01\n",
      "Iteration   200 | Cost: 1.833306e-01\n",
      "Iteration   200 | Cost: 2.513504e-01\n",
      "Iteration   200 | Cost: 3.850703e-01\n",
      "Iteration   200 | Cost: 6.692749e-01\n",
      "Iteration   183 | Cost: 1.443470e+00\n",
      "Iteration   102 | Cost: 3.101591e+00\n",
      "Iteration    62 | Cost: 7.268148e+00\n",
      "Iteration    34 | Cost: 1.586769e+01\n",
      "Iteration    20 | Cost: 3.337220e+01\n",
      "lambda\t\tTrain Error\tValidation Error\n",
      " 0.000000\t0.133980\t14.644642\n",
      " 0.001000\t0.144700\t16.200137\n",
      " 0.003000\t0.181164\t18.078278\n",
      " 0.010000\t0.221677\t17.097551\n",
      " 0.030000\t0.281854\t12.829082\n",
      " 0.100000\t0.459318\t7.587014\n",
      " 0.300000\t0.921760\t4.636833\n",
      " 1.000000\t2.076188\t4.260625\n",
      " 3.000000\t4.901351\t3.822907\n",
      " 10.000000\t16.092213\t9.945509\n"
     ]
    },
    {
     "data": {
      "image/png": "[encoded data removed]",
      "text/plain": [
       "<IPython.core.display.Image object>"
      ]
     },
     "metadata": {},
     "output_type": "display_data"
    }
   ],
   "source": [
    "%% =========== Part 8: Validation for Selecting Lambda =============\n",
    "%  You will now implement validationCurve to test various values of \n",
    "%  lambda on a validation set. You will then use this to select the\n",
    "%  \"best\" lambda value.\n",
    "%\n",
    "\n",
    "[lambda_vec, error_train, error_val] = ...\n",
    "    validationCurve(X_poly, y, X_poly_val, yval);\n",
    "\n",
    "close all;\n",
    "plot(lambda_vec, error_train, lambda_vec, error_val);\n",
    "legend('Train', 'Cross Validation');\n",
    "xlabel('lambda');\n",
    "ylabel('Error');\n",
    "\n",
    "fprintf('lambda\\t\\tTrain Error\\tValidation Error\\n');\n",
    "for i = 1:length(lambda_vec)\n",
    "\tfprintf(' %f\\t%f\\t%f\\n', ...\n",
    "            lambda_vec(i), error_train(i), error_val(i));\n",
    "end\n"
   ]
  },
  {
   "cell_type": "code",
   "execution_count": 67,
   "id": "366b847a",
   "metadata": {},
   "outputs": [
    {
     "name": "stdout",
     "output_type": "stream",
     "text": [
      "Iteration    34 | Cost: 1.586769e+01\n"
     ]
    }
   ],
   "source": [
    "theta = trainLinearReg(X_poly, y, 3);"
   ]
  },
  {
   "cell_type": "code",
   "execution_count": 68,
   "id": "28f1146d",
   "metadata": {},
   "outputs": [],
   "source": [
    "[Jtrain, gradtrain] = linearRegCostFunction(X_poly, y, theta, 0);\n",
    "[Jval, gradval] = linearRegCostFunction(X_poly_val, yval, theta, 0);\n",
    "[Jtest, gradtest] = linearRegCostFunction(X_poly_test, ytest, theta, 0);"
   ]
  },
  {
   "cell_type": "code",
   "execution_count": 69,
   "id": "afa59ddd",
   "metadata": {
    "scrolled": true
   },
   "outputs": [
    {
     "name": "stdout",
     "output_type": "stream",
     "text": [
      "ans =\r\n",
      "\r\n",
      "   4.9014   3.8229   3.8599\r\n",
      "\r\n"
     ]
    }
   ],
   "source": [
    "[Jtrain Jval Jtest]"
   ]
  },
  {
   "cell_type": "code",
   "execution_count": null,
   "id": "0b2756c9",
   "metadata": {},
   "outputs": [],
   "source": []
  }
 ],
 "metadata": {
  "kernelspec": {
   "display_name": "Octave",
   "language": "octave",
   "name": "octave"
  },
  "language_info": {
   "file_extension": ".m",
   "help_links": [
    {
     "text": "GNU Octave",
     "url": "https://www.gnu.org/software/octave/support.html"
    },
    {
     "text": "Octave Kernel",
     "url": "https://github.com/Calysto/octave_kernel"
    },
    {
     "text": "MetaKernel Magics",
     "url": "https://metakernel.readthedocs.io/en/latest/source/README.html"
    }
   ],
   "mimetype": "text/x-octave",
   "name": "octave",
   "version": "5.2.0"
  }
 },
 "nbformat": 4,
 "nbformat_minor": 5
}
