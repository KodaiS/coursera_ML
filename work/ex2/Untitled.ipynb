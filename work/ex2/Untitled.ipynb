{
 "cells": [
  {
   "cell_type": "code",
   "execution_count": 143,
   "id": "f09ed286",
   "metadata": {},
   "outputs": [],
   "source": [
    "data = load('ex2data1.txt');\n",
    "X = data(:, [1, 2]); y = data(:, 3);\n",
    "[m, n] = size(X);"
   ]
  },
  {
   "cell_type": "code",
   "execution_count": 144,
   "id": "874b4abc",
   "metadata": {},
   "outputs": [],
   "source": [
    "X = [ones(m, 1) X];\n",
    "initial_theta = zeros(n + 1, 1);"
   ]
  },
  {
   "cell_type": "code",
   "execution_count": 145,
   "id": "72557b62",
   "metadata": {},
   "outputs": [
    {
     "name": "stdout",
     "output_type": "stream",
     "text": [
      "initial_theta =\r\n",
      "\r\n",
      "   0\r\n",
      "   0\r\n",
      "   0\r\n",
      "\r\n"
     ]
    }
   ],
   "source": [
    "initial_theta"
   ]
  },
  {
   "cell_type": "code",
   "execution_count": 165,
   "id": "9f195795",
   "metadata": {},
   "outputs": [
    {
     "name": "stdout",
     "output_type": "stream",
     "text": [
      "J =  0.69315\r\n",
      "grad =\r\n",
      "\r\n",
      "   -0.10000\r\n",
      "  -12.00922\r\n",
      "  -11.26284\r\n",
      "\r\n"
     ]
    }
   ],
   "source": [
    "[J, grad] = costFunction(initial_theta, X, y)"
   ]
  },
  {
   "cell_type": "code",
   "execution_count": null,
   "id": "f4c3f0c6",
   "metadata": {},
   "outputs": [],
   "source": []
  }
 ],
 "metadata": {
  "kernelspec": {
   "display_name": "Octave",
   "language": "octave",
   "name": "octave"
  },
  "language_info": {
   "file_extension": ".m",
   "help_links": [
    {
     "text": "GNU Octave",
     "url": "https://www.gnu.org/software/octave/support.html"
    },
    {
     "text": "Octave Kernel",
     "url": "https://github.com/Calysto/octave_kernel"
    },
    {
     "text": "MetaKernel Magics",
     "url": "https://metakernel.readthedocs.io/en/latest/source/README.html"
    }
   ],
   "mimetype": "text/x-octave",
   "name": "octave",
   "version": "5.2.0"
  }
 },
 "nbformat": 4,
 "nbformat_minor": 5
}
