{
 "cells": [
  {
   "cell_type": "markdown",
   "id": "e87eff89",
   "metadata": {},
   "source": [
    "# Anomaly detection"
   ]
  },
  {
   "cell_type": "code",
   "execution_count": 1,
   "id": "5cfde6bf",
   "metadata": {},
   "outputs": [],
   "source": [
    "clear ; close all; clc"
   ]
  },
  {
   "cell_type": "code",
   "execution_count": 62,
   "id": "761b9958",
   "metadata": {},
   "outputs": [
    {
     "name": "stdout",
     "output_type": "stream",
     "text": [
      "Visualizing example dataset for outlier detection.\r\n",
      "\r\n"
     ]
    },
    {
     "data": {
      "image/png": "[encoded data removed]",
      "text/plain": [
       "<IPython.core.display.Image object>"
      ]
     },
     "metadata": {},
     "output_type": "display_data"
    }
   ],
   "source": [
    "%% ================== Part 1: Load Example Dataset  ===================\n",
    "%  We start this exercise by using a small dataset that is easy to\n",
    "%  visualize.\n",
    "%\n",
    "%  Our example case consists of 2 network server statistics across\n",
    "%  several machines: the latency and throughput of each machine.\n",
    "%  This exercise will help us find possibly faulty (or very fast) machines.\n",
    "%\n",
    "\n",
    "fprintf('Visualizing example dataset for outlier detection.\\n\\n');\n",
    "\n",
    "%  The following command loads the dataset. You should now have the\n",
    "%  variables X, Xval, yval in your environment\n",
    "load('ex8data1.mat');\n",
    "\n",
    "%  Visualize the example dataset\n",
    "plot(X(:, 1), X(:, 2), 'bx');\n",
    "axis([0 30 0 30]);\n",
    "xlabel('Latency (ms)');\n",
    "ylabel('Throughput (mb/s)');"
   ]
  },
  {
   "cell_type": "code",
   "execution_count": 63,
   "id": "1149683e",
   "metadata": {},
   "outputs": [
    {
     "name": "stdout",
     "output_type": "stream",
     "text": [
      "Visualizing Gaussian fit.\n",
      "\n",
      "Best epsilon found using cross-validation: 8.990853e-05\n",
      "Best F1 on Cross Validation Set:  0.875000\n",
      "   (you should see a value epsilon of about 8.99e-05)\n",
      "   (you should see a Best F1 value of  0.875000)\n",
      "\n"
     ]
    },
    {
     "data": {
      "image/png": "[encoded data removed]",
      "text/plain": [
       "<IPython.core.display.Image object>"
      ]
     },
     "metadata": {},
     "output_type": "display_data"
    }
   ],
   "source": [
    "%% ================== Part 2: Estimate the dataset statistics ===================\n",
    "%  For this exercise, we assume a Gaussian distribution for the dataset.\n",
    "%\n",
    "%  We first estimate the parameters of our assumed Gaussian distribution, \n",
    "%  then compute the probabilities for each of the points and then visualize \n",
    "%  both the overall distribution and where each of the points falls in \n",
    "%  terms of that distribution.\n",
    "%\n",
    "fprintf('Visualizing Gaussian fit.\\n\\n');\n",
    "\n",
    "%  Estimate my and sigma2\n",
    "[mu sigma2] = estimateGaussian(X);\n",
    "\n",
    "%  Returns the density of the multivariate normal at each data point (row) \n",
    "%  of X\n",
    "p = multivariateGaussian(X, mu, sigma2);\n",
    "\n",
    "%  Visualize the fit\n",
    "visualizeFit(X,  mu, sigma2);\n",
    "xlabel('Latency (ms)');\n",
    "ylabel('Throughput (mb/s)');\n",
    "\n",
    "%% ================== Part 3: Find Outliers ===================\n",
    "%  Now you will find a good epsilon threshold using a cross-validation set\n",
    "%  probabilities given the estimated Gaussian distribution\n",
    "% \n",
    "\n",
    "pval = multivariateGaussian(Xval, mu, sigma2);\n",
    "\n",
    "[epsilon F1] = selectThreshold(yval, pval);\n",
    "fprintf('Best epsilon found using cross-validation: %e\\n', epsilon);\n",
    "fprintf('Best F1 on Cross Validation Set:  %f\\n', F1);\n",
    "fprintf('   (you should see a value epsilon of about 8.99e-05)\\n');\n",
    "fprintf('   (you should see a Best F1 value of  0.875000)\\n\\n');\n",
    "\n",
    "%  Find the outliers in the training set and plot the\n",
    "outliers = find(p < epsilon);\n",
    "\n",
    "%  Draw a red circle around those outliers\n",
    "hold on\n",
    "plot(X(outliers, 1), X(outliers, 2), 'ro', 'LineWidth', 2, 'MarkerSize', 10);\n",
    "hold off"
   ]
  },
  {
   "cell_type": "code",
   "execution_count": 65,
   "id": "626e6a15",
   "metadata": {},
   "outputs": [
    {
     "name": "stdout",
     "output_type": "stream",
     "text": [
      "Best epsilon found using cross-validation: 1.377229e-18\n",
      "Best F1 on Cross Validation Set:  0.615385\n",
      "   (you should see a value epsilon of about 1.38e-18)\n",
      "   (you should see a Best F1 value of 0.615385)\n",
      "# Outliers found: 117\n",
      "\n"
     ]
    }
   ],
   "source": [
    "%% ================== Part 4: Multidimensional Outliers ===================\n",
    "%  We will now use the code from the previous part and apply it to a \n",
    "%  harder problem in which more features describe each datapoint and only \n",
    "%  some features indicate whether a point is an outlier.\n",
    "%\n",
    "\n",
    "%  Loads the second dataset. You should now have the\n",
    "%  variables X, Xval, yval in your environment\n",
    "load('ex8data2.mat');\n",
    "\n",
    "%  Apply the same steps to the larger dataset\n",
    "[mu sigma2] = estimateGaussian(X);\n",
    "\n",
    "%  Training set \n",
    "p = multivariateGaussian(X, mu, sigma2);\n",
    "\n",
    "%  Cross-validation set\n",
    "pval = multivariateGaussian(Xval, mu, sigma2);\n",
    "\n",
    "%  Find the best threshold\n",
    "[epsilon F1] = selectThreshold(yval, pval);\n",
    "\n",
    "fprintf('Best epsilon found using cross-validation: %e\\n', epsilon);\n",
    "fprintf('Best F1 on Cross Validation Set:  %f\\n', F1);\n",
    "fprintf('   (you should see a value epsilon of about 1.38e-18)\\n');\n",
    "fprintf('   (you should see a Best F1 value of 0.615385)\\n');\n",
    "fprintf('# Outliers found: %d\\n\\n', sum(p < epsilon));"
   ]
  },
  {
   "cell_type": "markdown",
   "id": "7ee0b6f3",
   "metadata": {},
   "source": [
    "# Recommender Systems"
   ]
  },
  {
   "cell_type": "code",
   "execution_count": 69,
   "id": "51762aa7",
   "metadata": {},
   "outputs": [
    {
     "name": "stdout",
     "output_type": "stream",
     "text": [
      "Loading movie ratings dataset.\n",
      "\n",
      "Average rating for movie 1 (Toy Story): 3.878319 / 5\n",
      "\n"
     ]
    },
    {
     "data": {
      "image/png": "[encoded data removed]",
      "text/plain": [
       "<IPython.core.display.Image object>"
      ]
     },
     "metadata": {},
     "output_type": "display_data"
    }
   ],
   "source": [
    "%% =============== Part 1: Loading movie ratings dataset ================\n",
    "%  You will start by loading the movie ratings dataset to understand the\n",
    "%  structure of the data.\n",
    "%  \n",
    "fprintf('Loading movie ratings dataset.\\n\\n');\n",
    "\n",
    "%  Load data\n",
    "load ('ex8_movies.mat');\n",
    "\n",
    "%  Y is a 1682x943 matrix, containing ratings (1-5) of 1682 movies on \n",
    "%  943 users\n",
    "%\n",
    "%  R is a 1682x943 matrix, where R(i,j) = 1 if and only if user j gave a\n",
    "%  rating to movie i\n",
    "\n",
    "%  From the matrix, we can compute statistics like average rating.\n",
    "fprintf('Average rating for movie 1 (Toy Story): %f / 5\\n\\n', ...\n",
    "        mean(Y(1, R(1, :))));\n",
    "\n",
    "%  We can \"visualize\" the ratings matrix by plotting it with imagesc\n",
    "imagesc(Y);\n",
    "ylabel('Movies');\n",
    "xlabel('Users');"
   ]
  },
  {
   "cell_type": "code",
   "execution_count": 125,
   "id": "1dd60607",
   "metadata": {},
   "outputs": [
    {
     "name": "stdout",
     "output_type": "stream",
     "text": [
      "Cost at loaded parameters: 22.224604 \r\n",
      "(this value should be about 22.22)\r\n"
     ]
    }
   ],
   "source": [
    "%% ============ Part 2: Collaborative Filtering Cost Function ===========\n",
    "%  You will now implement the cost function for collaborative filtering.\n",
    "%  To help you debug your cost function, we have included set of weights\n",
    "%  that we trained on that. Specifically, you should complete the code in \n",
    "%  cofiCostFunc.m to return J.\n",
    "\n",
    "%  Load pre-trained weights (X, Theta, num_users, num_movies, num_features)\n",
    "load ('ex8_movieParams.mat');\n",
    "\n",
    "%  Reduce the data set size so that this runs faster\n",
    "num_users = 4; num_movies = 5; num_features = 3;\n",
    "X = X(1:num_movies, 1:num_features);\n",
    "Theta = Theta(1:num_users, 1:num_features);\n",
    "Y = Y(1:num_movies, 1:num_users);\n",
    "R = R(1:num_movies, 1:num_users);\n",
    "\n",
    "%  Evaluate cost function\n",
    "J = cofiCostFunc([X(:) ; Theta(:)], Y, R, num_users, num_movies, ...\n",
    "               num_features, 0);\n",
    "           \n",
    "fprintf(['Cost at loaded parameters: %f '...\n",
    "         '\\n(this value should be about 22.22)\\n'], J);\n"
   ]
  },
  {
   "cell_type": "code",
   "execution_count": 126,
   "id": "b6a8043a",
   "metadata": {},
   "outputs": [
    {
     "name": "stdout",
     "output_type": "stream",
     "text": [
      "\n",
      "Checking Gradients (without regularization) ... \n",
      "   -2.628840   -2.628840\n",
      "    1.549166    1.549166\n",
      "    0.760631    0.760631\n",
      "    0.321808    0.321808\n",
      "   15.100510   15.100510\n",
      "   -3.529792   -3.529792\n",
      "    3.102623    3.102623\n",
      "   -0.567646   -0.567646\n",
      "    1.792866    1.792866\n",
      "    0.138751    0.138751\n",
      "    1.787870    1.787870\n",
      "    4.964045    4.964045\n",
      "    2.971476    2.971476\n",
      "    0.215661    0.215661\n",
      "   -0.457541   -0.457541\n",
      "   -0.261471   -0.261471\n",
      "   -0.558900   -0.558900\n",
      "   -4.250739   -4.250739\n",
      "   -0.567203   -0.567203\n",
      "   -5.306035   -5.306035\n",
      "   -1.368309   -1.368309\n",
      "    1.374637    1.374637\n",
      "   -3.272873   -3.272873\n",
      "    0.816371    0.816371\n",
      "    0.327309    0.327309\n",
      "   -0.072256   -0.072256\n",
      "   -2.073147   -2.073147\n",
      "The above two columns you get should be very similar.\n",
      "(Left-Your Numerical Gradient, Right-Analytical Gradient)\n",
      "\n",
      "If your cost function implementation is correct, then \n",
      "the relative difference will be small (less than 1e-9). \n",
      "\n",
      "Relative Difference: 1.34264e-12\n"
     ]
    }
   ],
   "source": [
    "%% ============== Part 3: Collaborative Filtering Gradient ==============\n",
    "%  Once your cost function matches up with ours, you should now implement \n",
    "%  the collaborative filtering gradient function. Specifically, you should \n",
    "%  complete the code in cofiCostFunc.m to return the grad argument.\n",
    "%  \n",
    "fprintf('\\nChecking Gradients (without regularization) ... \\n');\n",
    "\n",
    "%  Check gradients by running checkNNGradients\n",
    "checkCostFunction;"
   ]
  },
  {
   "cell_type": "code",
   "execution_count": 128,
   "id": "343ba0c7",
   "metadata": {},
   "outputs": [
    {
     "name": "stdout",
     "output_type": "stream",
     "text": [
      "Cost at loaded parameters (lambda = 1.5): 31.344056 \r\n",
      "(this value should be about 31.34)\r\n"
     ]
    }
   ],
   "source": [
    "%% ========= Part 4: Collaborative Filtering Cost Regularization ========\n",
    "%  Now, you should implement regularization for the cost function for \n",
    "%  collaborative filtering. You can implement it by adding the cost of\n",
    "%  regularization to the original cost computation.\n",
    "%  \n",
    "\n",
    "%  Evaluate cost function\n",
    "J = cofiCostFunc([X(:) ; Theta(:)], Y, R, num_users, num_movies, ...\n",
    "               num_features, 1.5);\n",
    "           \n",
    "fprintf(['Cost at loaded parameters (lambda = 1.5): %f '...\n",
    "         '\\n(this value should be about 31.34)\\n'], J);"
   ]
  },
  {
   "cell_type": "code",
   "execution_count": 129,
   "id": "f67a44e8",
   "metadata": {},
   "outputs": [
    {
     "name": "stdout",
     "output_type": "stream",
     "text": [
      "\n",
      "Checking Gradients (with regularization) ... \n",
      "   4.46052   4.46052\n",
      "  -0.39094  -0.39094\n",
      "   2.11274   2.11274\n",
      "  -3.24770  -3.24770\n",
      "  -3.71668  -3.71668\n",
      "  -0.89226  -0.89226\n",
      "  -1.74060  -1.74060\n",
      "  -4.87858  -4.87858\n",
      "   1.49466   1.49466\n",
      "   1.76761   1.76761\n",
      "  -1.98362  -1.98362\n",
      "  -0.70010  -0.70010\n",
      "   2.99430   2.99430\n",
      "   0.33707   0.33707\n",
      "  -4.24486  -4.24486\n",
      "   1.95009   1.95009\n",
      "   0.99013   0.99013\n",
      "   5.44308   5.44308\n",
      "   1.42038   1.42038\n",
      "   3.57179   3.57179\n",
      "  -0.33950  -0.33950\n",
      "   0.43562   0.43562\n",
      "   1.87087   1.87087\n",
      "   1.76687   1.76687\n",
      "  -0.49448  -0.49448\n",
      "  -0.56975  -0.56975\n",
      "   0.52899   0.52899\n",
      "The above two columns you get should be very similar.\n",
      "(Left-Your Numerical Gradient, Right-Analytical Gradient)\n",
      "\n",
      "If your cost function implementation is correct, then \n",
      "the relative difference will be small (less than 1e-9). \n",
      "\n",
      "Relative Difference: 1.88488e-12\n"
     ]
    }
   ],
   "source": [
    "%% ======= Part 5: Collaborative Filtering Gradient Regularization ======\n",
    "%  Once your cost matches up with ours, you should proceed to implement \n",
    "%  regularization for the gradient. \n",
    "%\n",
    "\n",
    "%  \n",
    "fprintf('\\nChecking Gradients (with regularization) ... \\n');\n",
    "\n",
    "%  Check gradients by running checkNNGradients\n",
    "checkCostFunction(1.5);"
   ]
  },
  {
   "cell_type": "code",
   "execution_count": 130,
   "id": "199c422f",
   "metadata": {},
   "outputs": [
    {
     "name": "stdout",
     "output_type": "stream",
     "text": [
      "\n",
      "\n",
      "New user ratings:\n",
      "Rated 4 for Toy Story (1995)\n",
      "Rated 3 for Twelve Monkeys (1995)\n",
      "Rated 5 for Usual Suspects, The (1995)\n",
      "Rated 4 for Outbreak (1995)\n",
      "Rated 5 for Shawshank Redemption, The (1994)\n",
      "Rated 3 for While You Were Sleeping (1995)\n",
      "Rated 5 for Forrest Gump (1994)\n",
      "Rated 2 for Silence of the Lambs, The (1991)\n",
      "Rated 4 for Alien (1979)\n",
      "Rated 5 for Die Hard 2 (1990)\n",
      "Rated 5 for Sphere (1998)\n"
     ]
    }
   ],
   "source": [
    "%% ============== Part 6: Entering ratings for a new user ===============\n",
    "%  Before we will train the collaborative filtering model, we will first\n",
    "%  add ratings that correspond to a new user that we just observed. This\n",
    "%  part of the code will also allow you to put in your own ratings for the\n",
    "%  movies in our dataset!\n",
    "%\n",
    "movieList = loadMovieList();\n",
    "\n",
    "%  Initialize my ratings\n",
    "my_ratings = zeros(1682, 1);\n",
    "\n",
    "% Check the file movie_idx.txt for id of each movie in our dataset\n",
    "% For example, Toy Story (1995) has ID 1, so to rate it \"4\", you can set\n",
    "my_ratings(1) = 4;\n",
    "\n",
    "% Or suppose did not enjoy Silence of the Lambs (1991), you can set\n",
    "my_ratings(98) = 2;\n",
    "\n",
    "% We have selected a few movies we liked / did not like and the ratings we\n",
    "% gave are as follows:\n",
    "my_ratings(7) = 3;\n",
    "my_ratings(12)= 5;\n",
    "my_ratings(54) = 4;\n",
    "my_ratings(64)= 5;\n",
    "my_ratings(66)= 3;\n",
    "my_ratings(69) = 5;\n",
    "my_ratings(183) = 4;\n",
    "my_ratings(226) = 5;\n",
    "my_ratings(355)= 5;\n",
    "\n",
    "fprintf('\\n\\nNew user ratings:\\n');\n",
    "for i = 1:length(my_ratings)\n",
    "    if my_ratings(i) > 0 \n",
    "        fprintf('Rated %d for %s\\n', my_ratings(i), ...\n",
    "                 movieList{i});\n",
    "    end\n",
    "end\n"
   ]
  },
  {
   "cell_type": "code",
   "execution_count": 131,
   "id": "99b2a0f9",
   "metadata": {},
   "outputs": [
    {
     "name": "stdout",
     "output_type": "stream",
     "text": [
      "\n",
      "Training collaborative filtering...\n",
      "Iteration   100 | Cost: 3.895222e+04\n"
     ]
    }
   ],
   "source": [
    "%% ================== Part 7: Learning Movie Ratings ====================\n",
    "%  Now, you will train the collaborative filtering model on a movie rating \n",
    "%  dataset of 1682 movies and 943 users\n",
    "%\n",
    "\n",
    "fprintf('\\nTraining collaborative filtering...\\n');\n",
    "\n",
    "%  Load data\n",
    "load('ex8_movies.mat');\n",
    "\n",
    "%  Y is a 1682x943 matrix, containing ratings (1-5) of 1682 movies by \n",
    "%  943 users\n",
    "%\n",
    "%  R is a 1682x943 matrix, where R(i,j) = 1 if and only if user j gave a\n",
    "%  rating to movie i\n",
    "\n",
    "%  Add our own ratings to the data matrix\n",
    "Y = [my_ratings Y];\n",
    "R = [(my_ratings ~= 0) R];\n",
    "\n",
    "%  Normalize Ratings\n",
    "[Ynorm, Ymean] = normalizeRatings(Y, R);\n",
    "\n",
    "%  Useful Values\n",
    "num_users = size(Y, 2);\n",
    "num_movies = size(Y, 1);\n",
    "num_features = 10;\n",
    "\n",
    "% Set Initial Parameters (Theta, X)\n",
    "X = randn(num_movies, num_features);\n",
    "Theta = randn(num_users, num_features);\n",
    "\n",
    "initial_parameters = [X(:); Theta(:)];\n",
    "\n",
    "% Set options for fmincg\n",
    "options = optimset('GradObj', 'on', 'MaxIter', 100);\n",
    "\n",
    "% Set Regularization\n",
    "lambda = 10;\n",
    "theta = fmincg (@(t)(cofiCostFunc(t, Ynorm, R, num_users, num_movies, ...\n",
    "                                num_features, lambda)), ...\n",
    "                initial_parameters, options);\n",
    "\n",
    "% Unfold the returned theta back into U and W\n",
    "X = reshape(theta(1:num_movies*num_features), num_movies, num_features);\n",
    "Theta = reshape(theta(num_movies*num_features+1:end), ...\n",
    "                num_users, num_features);\n"
   ]
  },
  {
   "cell_type": "code",
   "execution_count": 132,
   "id": "c256ca03",
   "metadata": {},
   "outputs": [
    {
     "name": "stdout",
     "output_type": "stream",
     "text": [
      "\n",
      "Top recommendations for you:\n",
      "Predicting rating 5.0 for movie Great Day in Harlem, A (1994)\n",
      "Predicting rating 5.0 for movie Santa with Muscles (1996)\n",
      "Predicting rating 5.0 for movie They Made Me a Criminal (1939)\n",
      "Predicting rating 5.0 for movie Marlene Dietrich: Shadow and Light (1996)\n",
      "Predicting rating 5.0 for movie Star Kid (1997)\n",
      "Predicting rating 5.0 for movie Someone Else's America (1995)\n",
      "Predicting rating 5.0 for movie Entertaining Angels: The Dorothy Day Story (1996)\n",
      "Predicting rating 5.0 for movie Aiqing wansui (1994)\n",
      "Predicting rating 5.0 for movie Saint of Fort Washington, The (1993)\n",
      "Predicting rating 5.0 for movie Prefontaine (1997)\n",
      "\n",
      "\n",
      "Original ratings provided:\n",
      "Rated 4 for Toy Story (1995)\n",
      "Rated 3 for Twelve Monkeys (1995)\n",
      "Rated 5 for Usual Suspects, The (1995)\n",
      "Rated 4 for Outbreak (1995)\n",
      "Rated 5 for Shawshank Redemption, The (1994)\n",
      "Rated 3 for While You Were Sleeping (1995)\n",
      "Rated 5 for Forrest Gump (1994)\n",
      "Rated 2 for Silence of the Lambs, The (1991)\n",
      "Rated 4 for Alien (1979)\n",
      "Rated 5 for Die Hard 2 (1990)\n",
      "Rated 5 for Sphere (1998)\n"
     ]
    }
   ],
   "source": [
    "%% ================== Part 8: Recommendation for you ====================\n",
    "%  After training the model, you can now make recommendations by computing\n",
    "%  the predictions matrix.\n",
    "%\n",
    "\n",
    "p = X * Theta';\n",
    "my_predictions = p(:,1) + Ymean;\n",
    "\n",
    "movieList = loadMovieList();\n",
    "\n",
    "[r, ix] = sort(my_predictions, 'descend');\n",
    "fprintf('\\nTop recommendations for you:\\n');\n",
    "for i=1:10\n",
    "    j = ix(i);\n",
    "    fprintf('Predicting rating %.1f for movie %s\\n', my_predictions(j), ...\n",
    "            movieList{j});\n",
    "end\n",
    "\n",
    "fprintf('\\n\\nOriginal ratings provided:\\n');\n",
    "for i = 1:length(my_ratings)\n",
    "    if my_ratings(i) > 0 \n",
    "        fprintf('Rated %d for %s\\n', my_ratings(i), ...\n",
    "                 movieList{i});\n",
    "    end\n",
    "end"
   ]
  },
  {
   "cell_type": "code",
   "execution_count": null,
   "id": "5d8ed10b",
   "metadata": {},
   "outputs": [],
   "source": []
  }
 ],
 "metadata": {
  "kernelspec": {
   "display_name": "Octave",
   "language": "octave",
   "name": "octave"
  },
  "language_info": {
   "file_extension": ".m",
   "help_links": [
    {
     "text": "GNU Octave",
     "url": "https://www.gnu.org/software/octave/support.html"
    },
    {
     "text": "Octave Kernel",
     "url": "https://github.com/Calysto/octave_kernel"
    },
    {
     "text": "MetaKernel Magics",
     "url": "https://metakernel.readthedocs.io/en/latest/source/README.html"
    }
   ],
   "mimetype": "text/x-octave",
   "name": "octave",
   "version": "5.2.0"
  }
 },
 "nbformat": 4,
 "nbformat_minor": 5
}
