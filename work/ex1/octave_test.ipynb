{
 "cells": [
  {
   "cell_type": "markdown",
   "id": "0522e1ec",
   "metadata": {},
   "source": [
    "# ex1"
   ]
  },
  {
   "cell_type": "code",
   "execution_count": 37,
   "id": "de1433ef",
   "metadata": {},
   "outputs": [],
   "source": [
    "data = load('ex1data1.txt');\n",
    "X = data(:, 1); y = data(:, 2);\n",
    "m = length(y);"
   ]
  },
  {
   "cell_type": "code",
   "execution_count": 38,
   "id": "698943f4",
   "metadata": {},
   "outputs": [
    {
     "data": {
      "image/png": "[encoded data removed]",
      "text/plain": [
       "<IPython.core.display.Image object>"
      ]
     },
     "metadata": {},
     "output_type": "display_data"
    }
   ],
   "source": [
    "plot(X, y, 'rx', 'MarkerSize', 10); % Plot the data\n",
    "ylabel('Profit in $10,000s'); % Set the y􀀀axis label\n",
    "xlabel('Population of City in 10,000s'); % Set the x􀀀axis label"
   ]
  },
  {
   "cell_type": "markdown",
   "id": "3693f8dd",
   "metadata": {},
   "source": [
    "# Gradient Descent"
   ]
  },
  {
   "cell_type": "markdown",
   "id": "75d66117",
   "metadata": {},
   "source": [
    "### Update Equations"
   ]
  },
  {
   "cell_type": "code",
   "execution_count": 39,
   "id": "5ee6e719",
   "metadata": {},
   "outputs": [
    {
     "name": "stdout",
     "output_type": "stream",
     "text": [
      "theta =\r\n",
      "\r\n",
      "   0\r\n",
      "   0\r\n",
      "\r\n"
     ]
    }
   ],
   "source": [
    "theta = zeros(2, 1)"
   ]
  },
  {
   "cell_type": "code",
   "execution_count": 40,
   "id": "b4517434",
   "metadata": {},
   "outputs": [
    {
     "name": "stdout",
     "output_type": "stream",
     "text": [
      "m =  97\r\n"
     ]
    }
   ],
   "source": [
    "m=length(y)"
   ]
  },
  {
   "cell_type": "code",
   "execution_count": 42,
   "id": "a2ad97ec",
   "metadata": {},
   "outputs": [
    {
     "name": "stdout",
     "output_type": "stream",
     "text": [
      "X =\r\n",
      "\r\n",
      "    1.0000    6.1101\r\n",
      "    1.0000    5.5277\r\n",
      "    1.0000    8.5186\r\n",
      "    1.0000    7.0032\r\n",
      "    1.0000    5.8598\r\n",
      "    1.0000    8.3829\r\n",
      "    1.0000    7.4764\r\n",
      "    1.0000    8.5781\r\n",
      "    1.0000    6.4862\r\n",
      "    1.0000    5.0546\r\n",
      "    1.0000    5.7107\r\n",
      "    1.0000   14.1640\r\n",
      "    1.0000    5.7340\r\n",
      "    1.0000    8.4084\r\n",
      "    1.0000    5.6407\r\n",
      "    1.0000    5.3794\r\n",
      "    1.0000    6.3654\r\n",
      "    1.0000    5.1301\r\n",
      "    1.0000    6.4296\r\n",
      "    1.0000    7.0708\r\n",
      "    1.0000    6.1891\r\n",
      "    1.0000   20.2700\r\n",
      "    1.0000    5.4901\r\n",
      "    1.0000    6.3261\r\n",
      "    1.0000    5.5649\r\n",
      "    1.0000   18.9450\r\n",
      "    1.0000   12.8280\r\n",
      "    1.0000   10.9570\r\n",
      "    1.0000   13.1760\r\n",
      "    1.0000   22.2030\r\n",
      "    1.0000    5.2524\r\n",
      "    1.0000    6.5894\r\n",
      "    1.0000    9.2482\r\n",
      "    1.0000    5.8918\r\n",
      "    1.0000    8.2111\r\n",
      "    1.0000    7.9334\r\n",
      "    1.0000    8.0959\r\n",
      "    1.0000    5.6063\r\n",
      "    1.0000   12.8360\r\n",
      "    1.0000    6.3534\r\n",
      "    1.0000    5.4069\r\n",
      "    1.0000    6.8825\r\n",
      "    1.0000   11.7080\r\n",
      "    1.0000    5.7737\r\n",
      "    1.0000    7.8247\r\n",
      "    1.0000    7.0931\r\n",
      "    1.0000    5.0702\r\n",
      "    1.0000    5.8014\r\n",
      "    1.0000   11.7000\r\n",
      "    1.0000    5.5416\r\n",
      "    1.0000    7.5402\r\n",
      "    1.0000    5.3077\r\n",
      "    1.0000    7.4239\r\n",
      "    1.0000    7.6031\r\n",
      "    1.0000    6.3328\r\n",
      "    1.0000    6.3589\r\n",
      "    1.0000    6.2742\r\n",
      "    1.0000    5.6397\r\n",
      "    1.0000    9.3102\r\n",
      "    1.0000    9.4536\r\n",
      "    1.0000    8.8254\r\n",
      "    1.0000    5.1793\r\n",
      "    1.0000   21.2790\r\n",
      "    1.0000   14.9080\r\n",
      "    1.0000   18.9590\r\n",
      "    1.0000    7.2182\r\n",
      "    1.0000    8.2951\r\n",
      "    1.0000   10.2360\r\n",
      "    1.0000    5.4994\r\n",
      "    1.0000   20.3410\r\n",
      "    1.0000   10.1360\r\n",
      "    1.0000    7.3345\r\n",
      "    1.0000    6.0062\r\n",
      "    1.0000    7.2259\r\n",
      "    1.0000    5.0269\r\n",
      "    1.0000    6.5479\r\n",
      "    1.0000    7.5386\r\n",
      "    1.0000    5.0365\r\n",
      "    1.0000   10.2740\r\n",
      "    1.0000    5.1077\r\n",
      "    1.0000    5.7292\r\n",
      "    1.0000    5.1884\r\n",
      "    1.0000    6.3557\r\n",
      "    1.0000    9.7687\r\n",
      "    1.0000    6.5159\r\n",
      "    1.0000    8.5172\r\n",
      "    1.0000    9.1802\r\n",
      "    1.0000    6.0020\r\n",
      "    1.0000    5.5204\r\n",
      "    1.0000    5.0594\r\n",
      "    1.0000    5.7077\r\n",
      "    1.0000    7.6366\r\n",
      "    1.0000    5.8707\r\n",
      "    1.0000    5.3054\r\n",
      "    1.0000    8.2934\r\n",
      "    1.0000   13.3940\r\n",
      "    1.0000    5.4369\r\n",
      "\r\n"
     ]
    }
   ],
   "source": [
    "X=[ones(m,1),X]"
   ]
  },
  {
   "cell_type": "code",
   "execution_count": 44,
   "id": "051dc4fd",
   "metadata": {},
   "outputs": [
    {
     "name": "stdout",
     "output_type": "stream",
     "text": [
      "ans =\r\n",
      "\r\n",
      "   -566.40\r\n",
      "  -6336.90\r\n",
      "\r\n"
     ]
    }
   ],
   "source": [
    "sum((X * theta - y) .* X)'"
   ]
  },
  {
   "cell_type": "code",
   "execution_count": null,
   "id": "44f6cc28",
   "metadata": {},
   "outputs": [],
   "source": []
  }
 ],
 "metadata": {
  "kernelspec": {
   "display_name": "Octave",
   "language": "octave",
   "name": "octave"
  },
  "language_info": {
   "file_extension": ".m",
   "help_links": [
    {
     "text": "GNU Octave",
     "url": "https://www.gnu.org/software/octave/support.html"
    },
    {
     "text": "Octave Kernel",
     "url": "https://github.com/Calysto/octave_kernel"
    },
    {
     "text": "MetaKernel Magics",
     "url": "https://metakernel.readthedocs.io/en/latest/source/README.html"
    }
   ],
   "mimetype": "text/x-octave",
   "name": "octave",
   "version": "5.2.0"
  }
 },
 "nbformat": 4,
 "nbformat_minor": 5
}
